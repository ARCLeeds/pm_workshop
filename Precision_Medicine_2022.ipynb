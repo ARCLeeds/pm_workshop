{
  "nbformat": 4,
  "nbformat_minor": 0,
  "metadata": {
    "colab": {
      "name": "Precision_Medicine_2022.ipynb",
      "provenance": []
    },
    "kernelspec": {
      "name": "python3",
      "display_name": "Python 3"
    },
    "language_info": {
      "name": "python"
    }
  },
  "cells": [
    {
      "cell_type": "markdown",
      "source": [
        "# Precision Medicine Workshop"
      ],
      "metadata": {
        "id": "3KlZNUMN9nGm"
      }
    },
    {
      "cell_type": "markdown",
      "source": [
        "<a href=\"https://githubtocolab.com/ARCLeeds/pm_workshop/blob/main/Precision_Medicine_2022.ipynb\" target=\"_parent\"><img src=\"https://colab.research.google.com/assets/colab-badge.svg\" alt=\"Open in Colab\"/></a>"
      ],
      "metadata": {
        "id": "DqVbTHrG1UbC"
      }
    },
    {
      "cell_type": "markdown",
      "source": [
        "Make sure you run the cell below first (`%load_ext rpy2.ipython`). This makes this Colab notebook able to run R in the cells."
      ],
      "metadata": {
        "id": "wHHAxOQPIVNy"
      }
    },
    {
      "cell_type": "code",
      "execution_count": 1,
      "metadata": {
        "id": "ia8r0mw99mWS"
      },
      "outputs": [],
      "source": [
        "%load_ext rpy2.ipython"
      ]
    },
    {
      "cell_type": "markdown",
      "source": [
        "Now download the data files we need into this notebook."
      ],
      "metadata": {
        "id": "3VOG0wShiA3-"
      }
    },
    {
      "cell_type": "code",
      "source": [
        "!git clone https://github.com/ARCLeeds/pm_workshop.git"
      ],
      "metadata": {
        "id": "_stQNMlqJCEx"
      },
      "execution_count": null,
      "outputs": []
    },
    {
      "cell_type": "code",
      "source": [
        "%%R\n",
        "#Data to read in:\n",
        "imiss<-read.table(file=\"pm_workshop/testplink.imiss\",header=TRUE)\n",
        "lmiss<-read.table(file=\"pm_workshop/testplink.lmiss\",header=TRUE)\n",
        "hetph<-read.table(file=\"pm_workshop/testplink_ph.het\",header=TRUE,sep=\"\\t\")\n",
        "pcaph<-read.table(file=\"pm_workshop/testplink_ph.eigenvec\",header=TRUE,sep=\"\\t\")\n",
        "pca2ph<-read.table(file=\"pm_workshop/testplinkasian_ph.eigenvec\",header=TRUE,sep=\"\\t\")\n",
        "reslog<-read.table(file=\"pm_workshop/testplinkallWITHCUMPOS.assoc.logistic\",header=TRUE)\n",
        "reslog2<-read.table(file=\"pm_workshop/testplinkall2WITHCUMPOS.assoc.logistic\",header=TRUE)"
      ],
      "metadata": {
        "id": "8jadUZzM97Q_"
      },
      "execution_count": 5,
      "outputs": []
    },
    {
      "cell_type": "markdown",
      "source": [
        "## First look at how much missingness there is in the data - per marker and per person"
      ],
      "metadata": {
        "id": "iKVfX-ubC6KI"
      }
    },
    {
      "cell_type": "code",
      "source": [
        "%%R\n",
        "imiss<-read.table(file=\"pm_workshop/testplink.imiss\",header=TRUE)\n",
        "lmiss<-read.table(file=\"pm_workshop/testplink.lmiss\",header=TRUE)\n",
        "\n",
        "par(mfrow=c(2,1))\n",
        "hist(imiss[,6],xlab=\"Missingness (%)\",breaks=seq(from=0,to=0.044,by=0.002),main=\"Missingness per marker\",col=\"green\")\n",
        "hist(lmiss[,5],xlab=\"Missingness (%)\",breaks=seq(from=0,to=0.044,by=0.002),main=\"Missingness per person\",col=\"red\")\n",
        "\n"
      ],
      "metadata": {
        "id": "RhaXke88_m5n"
      },
      "execution_count": null,
      "outputs": []
    },
    {
      "cell_type": "code",
      "source": [
        "%%R\n",
        "#Let's see how many individuals are missing at > 3% of their genetic markers\n",
        "nrow(imiss[imiss[,6]>0.03,])\n"
      ],
      "metadata": {
        "id": "M6NqQ5pRD97P"
      },
      "execution_count": null,
      "outputs": []
    },
    {
      "cell_type": "code",
      "source": [
        "%%R\n",
        "#Let's see how many markers are missing in > 3% of people\n",
        "nrow(lmiss[lmiss[,5]>0.03,])"
      ],
      "metadata": {
        "id": "YSxgOazSEAin"
      },
      "execution_count": null,
      "outputs": []
    },
    {
      "cell_type": "code",
      "source": [
        "%%R\n",
        "#Everyone carries two copies (alleles) at each genetic variant\n",
        "#A standard measure of genotype quality is to look at homozygosity - what proportion of genome is the same on both (maternal and paternal) chromosomes\n",
        "#If genotyping isn't working well then often only one chromosome produces a signal and it looks like this person has a lot of homozygosity\n",
        "\n",
        "hetph<-read.table(file=\"pm_workshop/testplink_ph.het\",header=TRUE,sep=\"\\t\")\n",
        "\n"
      ],
      "metadata": {
        "id": "yCIdKuo2EPJc"
      },
      "execution_count": 10,
      "outputs": []
    },
    {
      "cell_type": "code",
      "source": [
        "%%R\n",
        "par(mfrow=c(1,1))\n",
        "hist(hetph[,6],main=\"Homozygosity\",xlab=\"Homozygosity\",col=\"blue\",xlim=c(-0.3,0.3))"
      ],
      "metadata": {
        "id": "ncCXq7mLPEZh"
      },
      "execution_count": null,
      "outputs": []
    },
    {
      "cell_type": "code",
      "source": [
        "%%R\n",
        "par(mfrow=c(2,1))\n",
        "hist(hetph[!is.na(hetph[,7])&hetph[,7]==\"White - British\",6],main=\"Homozygosity - White British\",breaks=seq(from=-0.3,to=0.3,by=0.025),xlab=\"Homozygosity\",col=\"blue\",xlim=c(-0.3,0.3))\n"
      ],
      "metadata": {
        "id": "sZyVa1KjPMAG"
      },
      "execution_count": null,
      "outputs": []
    },
    {
      "cell_type": "code",
      "source": [
        "%%R\n",
        "hist(hetph[!is.na(hetph[,7])&hetph[,7]==\"Asian - Pakistani\",6],main=\"Homozygosity - Pakistani\",breaks=seq(from=-0.3,to=0.3,by=0.025),xlab=\"Homozygosity\",col=\"red\",xlim=c(-0.3,0.3))"
      ],
      "metadata": {
        "id": "UhIyfLECPQ1C"
      },
      "execution_count": null,
      "outputs": []
    },
    {
      "cell_type": "code",
      "source": [
        "%%R\n",
        "#The other thing we want to check is ethnicity\n",
        "#We can do this by identifying those genetic variants that are most variable (in frequency) in our sample\n",
        "#These are liklely to reflect ethnic diversity\n",
        "#We can sum these many small differences and use this to predict what ethnic group someone is from\n",
        "\n",
        "#pca<-read.table(file=\"/Users/medimm/Desktop/mexico/runanalyses/testplink.eigenvec\",header=FALSE)\n",
        "#names(pca)[c(1,3,4)]<-c(\"IID\",\"PC1\",\"PC2\")\n",
        "#pcaph<-merge(pca[,c(1,3,4)],ph)\n",
        "\n",
        "#write.table(pcaph,file=\"/Users/medimm/Desktop/mexico/runanalyses/testplink_ph.eigenvec\",col.names=TRUE,row.names=F,quote=F,sep=\"\\t\")\n",
        "\n",
        "pcaph<-read.table(file=\"pm_workshop/testplink_ph.eigenvec\",header=TRUE,sep=\"\\t\")\n",
        "\n",
        "\n",
        "par(mfrow=c(1,1))\n",
        "plot(pcaph[,2],pcaph[,3],xlab=\"PC1\",ylab=\"PC2\")\n",
        "\n",
        "points(pcaph[pcaph[,4]==\"Asian - Bangladeshi\",2],pcaph[pcaph[,4]==\"Asian - Bangladeshi\",3],col=\"red\")\n",
        "#points(pcaph[pcaph[,4]==\"Asian - Indian\",2],pcaph[pcaph[,4]==\"Asian - Indian\",3],col=\"red\")\n",
        "#points(pcaph[pcaph[,4]==\"Asian - Pakistani\",2],pcaph[pcaph[,4]==\"Asian - Pakistani\",3],col=\"red\")\n",
        "#points(pcaph[pcaph[,4]==\"Black - African\",2],pcaph[pcaph[,4]==\"Black - African\",3],col=\"red\")\n",
        "#points(pcaph[pcaph[,4]==\"Other\",2],pcaph[pcaph[,4]==\"Other\",3],col=\"red\")\n",
        "#points(pcaph[pcaph[,4]==\"White - British\",2],pcaph[pcaph[,4]==\"White - British\",3],col=\"green\")\n",
        "#points(pcaph[pcaph[,4]==\"White - Other\",2],pcaph[pcaph[,4]==\"White - Other\",3],col=\"red\")\n",
        "\n",
        "#Possible colours: red, green, blue, yellow, magenta, purple, grey\n"
      ],
      "metadata": {
        "id": "V0NvE2hhKaLn"
      },
      "execution_count": null,
      "outputs": []
    },
    {
      "cell_type": "code",
      "source": [
        "%%R\n",
        "#We can do the same thing for south Asian samples (Pakistani ethnicity)\n",
        "#Then look at how this reflects biraderi (clan) structure\n",
        "\n",
        "#pca2<-read.table(file=\"/Users/medimm/Desktop/mexico/runanalyses/testplinksasian.eigenvec\",header=FALSE)\n",
        "\n",
        "#names(pca2)[c(1,3,4)]<-c(\"IID\",\"PC1\",\"PC2\")\n",
        "#pca2ph<-merge(pca2[,c(1,3,4)],ph)\n",
        "\n",
        "#write.table(pca2ph,file=\"/Users/medimm/Desktop/mexico/runanalyses/testplinkasian_ph.eigenvec\",col.names=TRUE,row.names=F,quote=F,sep=\"\\t\")\n",
        "\n",
        "pca2ph<-read.table(file=\"pm_workshop/testplinkasian_ph.eigenvec\",header=TRUE,sep=\"\\t\")\n",
        "\n",
        "plot(pca2ph[,2],pca2ph[,3],xlab=\"PC1\",ylab=\"PC2\")\n",
        "\n",
        "#There seems to be separation of groups here\n",
        "\n",
        "points(pca2ph[pca2ph[,5]==\"Bains\",2],pca2ph[pca2ph[,5]==\"Bains\",3],col=\"red\")\n",
        "points(pca2ph[pca2ph[,5]==\"Choudhry\",2],pca2ph[pca2ph[,5]==\"Choudhry\",3],col=\"green\")\n",
        "points(pca2ph[pca2ph[,5]==\"Jatt\",2],pca2ph[pca2ph[,5]==\"Jatt\",3],col=\"skyblue\")\n",
        "points(pca2ph[pca2ph[,5]==\"Kashmiri\",2],pca2ph[pca2ph[,5]==\"Kashmiri\",3],col=\"yellow\")\n",
        "points(pca2ph[pca2ph[,5]==\"Mughal\",2],pca2ph[pca2ph[,5]==\"Mughal\",3],col=\"magenta\")\n",
        "points(pca2ph[pca2ph[,5]==\"Pathan\",2],pca2ph[pca2ph[,5]==\"Pathan\",3],col=\"grey\")\n",
        "points(pca2ph[pca2ph[,5]==\"Rajput\",2],pca2ph[pca2ph[,5]==\"Rajput\",3],col=\"orange\")"
      ],
      "metadata": {
        "id": "sds1o6OQKm6f"
      },
      "execution_count": null,
      "outputs": []
    },
    {
      "cell_type": "code",
      "source": [
        "#Most participants give their region of origin (parents/grandparents) as Mirpur.\n",
        "#Pathan (grey) are quite distinct and geogrpahically come from a different part of Pakistan.\n",
        "#Jatt (sky blue) and Choudhry (green) seem to overlap completely.\n",
        "#â€˜Choudhryâ€™ is an honorary title in Punjab and Kashmir used most commonly by the Jatts.\n",
        "#Bains (red) is somewhat separate to others, while Rajput overlpas both Bain and Jatt/Choudhry.\n",
        "#It could be that Rajput has different subgroups or that it is a title taken on by people with different ancestry."
      ],
      "metadata": {
        "id": "h5ZxhZDYLIRU"
      },
      "execution_count": null,
      "outputs": []
    },
    {
      "cell_type": "code",
      "source": [
        "%%R\n",
        "#The main reason we're concerned with ethnicity is 'confounding'\n",
        "#We conduct tests comparing the frequency of markers in cases and controls\n",
        "#Any variant that is far more frequent in cases than controls is said to be 'associated' with disease\n",
        "\n",
        "reslog<-read.table(file=\"pm_workshop/testplinkallWITHCUMPOS.assoc.logistic\",header=TRUE)\n",
        "\n",
        "\n",
        "plot(reslog[round(0.5*reslog[,1])==0.5*reslog[,1],10],-log10(reslog[round(0.5*reslog[,1])==0.5*reslog[,1],9]),col=\"cornflowerblue\",xlim=c(min(reslog[,10],na.rm=T),max(reslog[,10],na.rm=T)),xaxt=\"n\",xlab=\"position\",ylab=\"-log10p\")\n",
        "points(reslog[round(0.5*reslog[,1])!=0.5*reslog[,1],10],-log10(reslog[round(0.5*reslog[,1])!=0.5*reslog[,1],9]),col=\"darkblue\")\n",
        "\n",
        "abline(h=-log10(5*(10^(-8))),col=\"red\")"
      ],
      "metadata": {
        "id": "TagfIU8XK0uF"
      },
      "execution_count": null,
      "outputs": []
    },
    {
      "cell_type": "code",
      "source": [
        "%%R\n",
        "#But what if you collect cases from one country and controls from another?\n",
        "#Any variant that is more frequent in cases than controls is also more frequent in one country than another\n",
        "#We don't know whether this is due to the variant being more frequent in cases or more freuent in one country than the other\n",
        "\n",
        "#Let's look at how case frequency differs by ethnicity:\n",
        "table(pcaph[,c(4,7)])\n",
        "\n",
        "#All the cases are in 'white British' samples (it's melanoma!)\n",
        "\n",
        "#So let try looking at the results when we just have white British samples:\n",
        "\n",
        "reslog2<-read.table(file=\"pm_workshop/testplinkall2WITHCUMPOS.assoc.logistic\",header=TRUE)\n",
        "\n",
        "\n",
        "plot(reslog2[round(0.5*reslog2[,1])==0.5*reslog2[,1],10],-log10(reslog2[round(0.5*reslog2[,1])==0.5*reslog2[,1],9]),col=\"cornflowerblue\",xlim=c(min(reslog2[,10],na.rm=T),max(reslog2[,10],na.rm=T)),xaxt=\"n\",xlab=\"position\",ylab=\"-log10p\")\n",
        "points(reslog2[round(0.5*reslog2[,1])!=0.5*reslog2[,1],10],-log10(reslog2[round(0.5*reslog2[,1])!=0.5*reslog2[,1],9]),col=\"darkblue\")\n",
        "\n",
        "abline(h=-log10(5*(10^(-8))),col=\"red\")"
      ],
      "metadata": {
        "id": "BV7SrcsfLQuS"
      },
      "execution_count": null,
      "outputs": []
    },
    {
      "cell_type": "code",
      "source": [
        "%%R\n",
        "#If we look at the results:\n",
        "\n",
        "reslog2[!is.na(reslog2[,9])&reslog2[,9]<0.000001,]"
      ],
      "metadata": {
        "id": "DKPCgdgRMD_K"
      },
      "execution_count": null,
      "outputs": []
    }
  ]
}