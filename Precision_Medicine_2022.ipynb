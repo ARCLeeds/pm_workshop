{
  "nbformat": 4,
  "nbformat_minor": 0,
  "metadata": {
    "colab": {
      "name": "Precision_Medicine_2022.ipynb",
      "provenance": [],
      "collapsed_sections": []
    },
    "kernelspec": {
      "name": "python3",
      "display_name": "Python 3"
    },
    "language_info": {
      "name": "python"
    }
  },
  "cells": [
    {
      "cell_type": "markdown",
      "source": [
        "# Precision Medicine Workshop"
      ],
      "metadata": {
        "id": "3KlZNUMN9nGm"
      }
    },
    {
      "cell_type": "markdown",
      "source": [
        "<a href=\"https://githubtocolab.com/ARCLeeds/pm_workshop/blob/main/Precision_Medicine_2022.ipynb\" target=\"_parent\"><img src=\"https://colab.research.google.com/assets/colab-badge.svg\" alt=\"Open in Colab\"/></a>"
      ],
      "metadata": {
        "id": "DqVbTHrG1UbC"
      }
    },
    {
      "cell_type": "markdown",
      "source": [
        "## Make sure you run the cell below first (`%load_ext rpy2.ipython`). This makes this Colab notebook able to run R in the cells. Run the code in each grey cell by clicking the arrow to the left that appears in the square brackets. You can make changes to the code if you want."
      ],
      "metadata": {
        "id": "wHHAxOQPIVNy"
      }
    },
    {
      "cell_type": "code",
      "execution_count": null,
      "metadata": {
        "id": "ia8r0mw99mWS"
      },
      "outputs": [],
      "source": [
        "%load_ext rpy2.ipython"
      ]
    },
    {
      "cell_type": "markdown",
      "source": [
        "## Now download the data files we need into this notebook.\n",
        "\n"
      ],
      "metadata": {
        "id": "3VOG0wShiA3-"
      }
    },
    {
      "cell_type": "code",
      "source": [
        "!git clone https://github.com/ARCLeeds/pm_workshop.git"
      ],
      "metadata": {
        "id": "_stQNMlqJCEx"
      },
      "execution_count": null,
      "outputs": []
    },
    {
      "cell_type": "code",
      "source": [
        "%%R\n",
        "#Data to read in:\n",
        "imiss<-read.table(file=\"pm_workshop/testplink.imiss\",header=TRUE)\n",
        "lmiss<-read.table(file=\"pm_workshop/testplink.lmiss\",header=TRUE)\n",
        "hetph<-read.table(file=\"pm_workshop/testplink_ph.het\",header=TRUE,sep=\"\\t\")\n",
        "pcaph<-read.table(file=\"pm_workshop/testplink_ph.eigenvec\",header=TRUE,sep=\"\\t\")\n",
        "pca2ph<-read.table(file=\"pm_workshop/testplinkasian_ph.eigenvec\",header=TRUE,sep=\"\\t\")\n",
        "reslog<-read.table(file=\"pm_workshop/testplinkallWITHCUMPOS.assoc.logistic\",header=TRUE)\n",
        "reslog2<-read.table(file=\"pm_workshop/testplinkall2WITHCUMPOS.assoc.logistic\",header=TRUE)"
      ],
      "metadata": {
        "id": "8jadUZzM97Q_"
      },
      "execution_count": null,
      "outputs": []
    },
    {
      "cell_type": "markdown",
      "source": [
        "## These are data from the Born in Bradford project. It includes data on almost 1,000 people at >84,000 genetic variants from across the genome. It includes individuals from multiple ethnicities, most commonly self-declaring themselves 'white British' or 'Pakistani'."
      ],
      "metadata": {
        "id": "Ytqwazdq8zfY"
      }
    },
    {
      "cell_type": "markdown",
      "source": [
        "## We'll look at some *quality control* metrics to ensure the data are of good quality, then see what genetic data can tell us about *ethnicity*. Finally we'll conduct *tests of association* between every genetic marker and a disease (melanoma)."
      ],
      "metadata": {
        "id": "lfYML9Yd9TJU"
      }
    },
    {
      "cell_type": "markdown",
      "source": [
        "## **Quality control - missingness**"
      ],
      "metadata": {
        "id": "YLMopDmHAsP9"
      }
    },
    {
      "cell_type": "markdown",
      "source": [
        "## First we look at how much *missingness* there is in the data  - per marker and per person (an indicator of quality) - by plotting histograms of these."
      ],
      "metadata": {
        "id": "iKVfX-ubC6KI"
      }
    },
    {
      "cell_type": "code",
      "source": [
        "%%R\n",
        "imiss<-read.table(file=\"pm_workshop/testplink.imiss\",header=TRUE)\n",
        "lmiss<-read.table(file=\"pm_workshop/testplink.lmiss\",header=TRUE)\n",
        "\n",
        "par(mfrow=c(2,1))\n",
        "hist(imiss[,6],xlab=\"Missingness (%)\",breaks=seq(from=0,to=0.044,by=0.002),main=\"Missingness per marker\",col=\"green\")\n",
        "hist(lmiss[,5],xlab=\"Missingness (%)\",breaks=seq(from=0,to=0.044,by=0.002),main=\"Missingness per person\",col=\"red\")\n",
        "\n"
      ],
      "metadata": {
        "id": "RhaXke88_m5n"
      },
      "execution_count": null,
      "outputs": []
    },
    {
      "cell_type": "markdown",
      "source": [
        "## Try changing the colours of the histograms and rerunning"
      ],
      "metadata": {
        "id": "Q-ykNtmP5Zz1"
      }
    },
    {
      "cell_type": "markdown",
      "source": [
        "## Let's see how many people are missing genotypes at > 3% of their genetic variants\n"
      ],
      "metadata": {
        "id": "ABxPXk7G47nR"
      }
    },
    {
      "cell_type": "code",
      "source": [
        "%%R\n",
        "nrow(imiss[imiss[,6]>0.03,])\n"
      ],
      "metadata": {
        "id": "M6NqQ5pRD97P"
      },
      "execution_count": null,
      "outputs": []
    },
    {
      "cell_type": "markdown",
      "source": [
        "## Let's see how many genetic variants are missing in > 3% of people"
      ],
      "metadata": {
        "id": "DnySnOrb5JYu"
      }
    },
    {
      "cell_type": "code",
      "source": [
        "%%R\n",
        "nrow(lmiss[lmiss[,5]>0.03,])"
      ],
      "metadata": {
        "id": "YSxgOazSEAin"
      },
      "execution_count": null,
      "outputs": []
    },
    {
      "cell_type": "markdown",
      "source": [
        "## Try changing the missingness thresholds from 3% to something different and rerunning"
      ],
      "metadata": {
        "id": "yYgdfmJu5yAo"
      }
    },
    {
      "cell_type": "markdown",
      "source": [
        "## **Quality control - homozygosity**"
      ],
      "metadata": {
        "id": "Db720xZ2MXPw"
      }
    },
    {
      "cell_type": "markdown",
      "source": [
        "## Everyone carries two copies (alleles) of each genetic variant (one from their mother and one from their father).\n",
        "## A standard measure of genotype quality is to look at homozygosity - what proportion of the genome is the same on both (maternal and paternal) chromosomes.\n",
        "## If genotyping isn't working well then often only one chromosome produces a signal and it looks like this person has a lot of homozygosity."
      ],
      "metadata": {
        "id": "58GdVK_u6HAb"
      }
    },
    {
      "cell_type": "code",
      "source": [
        "%%R\n",
        "\n",
        "hetph<-read.table(file=\"pm_workshop/testplink_ph.het\",header=TRUE,sep=\"\\t\")\n",
        "\n"
      ],
      "metadata": {
        "id": "yCIdKuo2EPJc"
      },
      "execution_count": null,
      "outputs": []
    },
    {
      "cell_type": "markdown",
      "source": [
        "## Let's plot a histogram of homozygosity"
      ],
      "metadata": {
        "id": "JXV8xLoY8FPJ"
      }
    },
    {
      "cell_type": "code",
      "source": [
        "%%R\n",
        "par(mfrow=c(1,1))\n",
        "hist(hetph[,6],main=\"Homozygosity\",xlab=\"Homozygosity\",col=\"blue\",xlim=c(-0.3,0.3))"
      ],
      "metadata": {
        "id": "ncCXq7mLPEZh"
      },
      "execution_count": null,
      "outputs": []
    },
    {
      "cell_type": "markdown",
      "source": [
        "This is a bigger spread to the right than we would normally expect - i.e. excess homozygosity. Let's try looking separately in the two most common ethnicities"
      ],
      "metadata": {
        "id": "jHKkfxLH-lu7"
      }
    },
    {
      "cell_type": "code",
      "source": [
        "%%R\n",
        "hist(hetph[!is.na(hetph[,7])&hetph[,7]==\"White - British\",6],main=\"Homozygosity - White British\",breaks=seq(from=-0.3,to=0.3,by=0.025),xlab=\"Homozygosity\",col=\"blue\",xlim=c(-0.3,0.3))\n"
      ],
      "metadata": {
        "id": "sZyVa1KjPMAG"
      },
      "execution_count": null,
      "outputs": []
    },
    {
      "cell_type": "code",
      "source": [
        "%%R\n",
        "hist(hetph[!is.na(hetph[,7])&hetph[,7]==\"Asian - Pakistani\",6],main=\"Homozygosity - Pakistani\",breaks=seq(from=-0.3,to=0.3,by=0.025),xlab=\"Homozygosity\",col=\"red\",xlim=c(-0.3,0.3))"
      ],
      "metadata": {
        "id": "UhIyfLECPQ1C"
      },
      "execution_count": null,
      "outputs": []
    },
    {
      "cell_type": "markdown",
      "source": [
        "## Clearly the excess homozygosity is in the Pakistani group. Why do you think this might be?"
      ],
      "metadata": {
        "id": "J--1GC8E-2kK"
      }
    },
    {
      "cell_type": "markdown",
      "source": [
        "## **Ethnicity**"
      ],
      "metadata": {
        "id": "93Q8w86EAlje"
      }
    },
    {
      "cell_type": "markdown",
      "source": [
        "## Self-declared ethnicity is not always reliable, especially when we are looking for subtle differences (e.g. different coutnries in Europe).\n",
        "## We can look for clusters of individuals based on genetic data.\n",
        "## In a mixed ethnicity sample, we expect that those variants that are most variable are the ones that differ in frequency by ethnicity.\n",
        "## Principal components analysis (PCA) will calculate a weighted average across an individual's genotypes, giving the biggest weights to the most variable genetic variants.\n",
        "## PC1 is the weighted average of genotypes that captures the maximum amount of variation in the dataset.\n",
        "## PC2  is the weighted average of genotypes that captures the next greatest amount of variation.\n",
        "## If we plot PC2 against PC1 we should see those individuals with similar ethnicity cluster together"
      ],
      "metadata": {
        "id": "PBmpn8bH_El7"
      }
    },
    {
      "cell_type": "code",
      "source": [
        "%%R\n",
        "\n",
        "pcaph<-read.table(file=\"pm_workshop/testplink_ph.eigenvec\",header=TRUE,sep=\"\\t\")\n",
        "\n",
        "par(mfrow=c(1,1))\n",
        "plot(pcaph[,2],pcaph[,3],xlab=\"PC1\",ylab=\"PC2\")\n",
        "\n",
        "#points(pcaph[pcaph[,4]==\"Asian - Bangladeshi\",2],pcaph[pcaph[,4]==\"Asian - Bangladeshi\",3],col=\"red\")\n",
        "#points(pcaph[pcaph[,4]==\"Asian - Indian\",2],pcaph[pcaph[,4]==\"Asian - Indian\",3],col=\"red\")\n",
        "#points(pcaph[pcaph[,4]==\"Asian - Pakistani\",2],pcaph[pcaph[,4]==\"Asian - Pakistani\",3],col=\"red\")\n",
        "#points(pcaph[pcaph[,4]==\"Black - African\",2],pcaph[pcaph[,4]==\"Black - African\",3],col=\"magenta\")\n",
        "#points(pcaph[pcaph[,4]==\"Other\",2],pcaph[pcaph[,4]==\"Other\",3],col=\"red\")\n",
        "#points(pcaph[pcaph[,4]==\"White - British\",2],pcaph[pcaph[,4]==\"White - British\",3],col=\"green\")\n",
        "#points(pcaph[pcaph[,4]==\"White - Other\",2],pcaph[pcaph[,4]==\"White - Other\",3],col=\"red\")\n",
        "\n",
        "#Possible colours: red, green, blue, yellow, magenta, purple, grey, skyblue, orange\n"
      ],
      "metadata": {
        "id": "V0NvE2hhKaLn"
      },
      "execution_count": null,
      "outputs": []
    },
    {
      "cell_type": "markdown",
      "source": [
        "## Each point represents an individual.\n",
        "## Individuals who are close together are from similar ethnic groups.\n",
        "## Remove the hash symbols to plot individuals from different ethnic groups in different colours to see where they lie on the plot.\n",
        "## Try plotting them in different colours so you can distinguish them."
      ],
      "metadata": {
        "id": "QL9uheOIA6yP"
      }
    },
    {
      "cell_type": "markdown",
      "source": [
        "## We can run the same analysis just for the south Asian samples.\n",
        "## Although they are all from the same region of Pakistan, marriages tend to be within biraderi (clans).\n",
        "## Let's see whether there is any genetic clustering based on these biraderi."
      ],
      "metadata": {
        "id": "h2c-4EQOCLsf"
      }
    },
    {
      "cell_type": "code",
      "source": [
        "%%R\n",
        "\n",
        "pca2ph<-read.table(file=\"pm_workshop/testplinkasian_ph.eigenvec\",header=TRUE,sep=\"\\t\")\n",
        "\n",
        "plot(pca2ph[,2],pca2ph[,3],xlab=\"PC1\",ylab=\"PC2\")\n",
        "\n",
        "#points(pca2ph[pca2ph[,5]==\"Bains\",2],pca2ph[pca2ph[,5]==\"Bains\",3],col=\"red\")\n",
        "#points(pca2ph[pca2ph[,5]==\"Choudhry\",2],pca2ph[pca2ph[,5]==\"Choudhry\",3],col=\"red\")\n",
        "#points(pca2ph[pca2ph[,5]==\"Jatt\",2],pca2ph[pca2ph[,5]==\"Jatt\",3],col=\"red\")\n",
        "#points(pca2ph[pca2ph[,5]==\"Kashmiri\",2],pca2ph[pca2ph[,5]==\"Kashmiri\",3],col=\"red\")\n",
        "#points(pca2ph[pca2ph[,5]==\"Mughal\",2],pca2ph[pca2ph[,5]==\"Mughal\",3],col=\"red\")\n",
        "#points(pca2ph[pca2ph[,5]==\"Pathan\",2],pca2ph[pca2ph[,5]==\"Pathan\",3],col=\"red\")\n",
        "#points(pca2ph[pca2ph[,5]==\"Rajput\",2],pca2ph[pca2ph[,5]==\"Rajput\",3],col=\"red\")"
      ],
      "metadata": {
        "id": "sds1o6OQKm6f"
      },
      "execution_count": null,
      "outputs": []
    },
    {
      "cell_type": "markdown",
      "source": [
        "## There appear to be clusters here.\n",
        "## Once again remove the hash symbols (and try different colours) to see where the different biarderis are on this plot.\n",
        "## Which biraderis look most different and which most similar (see the bottom of the page for more reading about this)?"
      ],
      "metadata": {
        "id": "PTQzsOBPDD4f"
      }
    },
    {
      "cell_type": "markdown",
      "source": [
        "## **Testing for association between genetic variants and disease risk**"
      ],
      "metadata": {
        "id": "PkBtkZYPFfnp"
      }
    },
    {
      "cell_type": "markdown",
      "source": [
        "## Testing for genetic association with disease is conceptually easy.\n",
        "## If a variant increases risk of disease then it will be more frequent among cases.\n",
        "## So we just collect cases and controls for a disease and test every genetic variant to see whether they differ in frequency between these two groups.\n",
        "## The main reason we are concerned about ethnicity when thinking about disease risk is *confounding*.\n",
        "## Imagine most of our cases come from one ethnicity and most of our controls from a different ethnicity.\n",
        "## Any genetic marker associated with disease risk will differ between the two groups, but so will any genetic marker that differs in frequency between the two groups."
      ],
      "metadata": {
        "id": "XXHOW9FkFbvp"
      }
    },
    {
      "cell_type": "markdown",
      "source": [
        "## Here we read in and plot the results from a test between melanoma cases and controls in our dataset."
      ],
      "metadata": {
        "id": "8f4fdhnbGiUf"
      }
    },
    {
      "cell_type": "code",
      "source": [
        "%%R\n",
        "\n",
        "reslog<-read.table(file=\"pm_workshop/testplinkallWITHCUMPOS.assoc.logistic\",header=TRUE)\n",
        "\n",
        "plot(reslog[round(0.5*reslog[,1])==0.5*reslog[,1],10],-log10(reslog[round(0.5*reslog[,1])==0.5*reslog[,1],9]),col=\"cornflowerblue\",xlim=c(min(reslog[,10],na.rm=T),max(reslog[,10],na.rm=T)),xaxt=\"n\",xlab=\"position\",ylab=\"-log10p\")\n",
        "points(reslog[round(0.5*reslog[,1])!=0.5*reslog[,1],10],-log10(reslog[round(0.5*reslog[,1])!=0.5*reslog[,1],9]),col=\"darkblue\")\n",
        "\n",
        "abline(h=-log10(5*(10^(-8))),col=\"red\")"
      ],
      "metadata": {
        "id": "TagfIU8XK0uF"
      },
      "execution_count": null,
      "outputs": []
    },
    {
      "cell_type": "markdown",
      "source": [
        "## Every point represents a genetic marker.\n",
        "## They are plotted in order of their position across the genome on the X-axis.\n",
        "## On the Y-axis is plotted the -log of the p-value - a value of 2 is a p-value of 0.01, a value of 3 is a p-value of 0.001, etc.\n",
        "## In genetic studies we say that a marker is associated if it's p-value < 0.00000005 (-logp > 7.3). So every point above the red line is significantly associated with disease.\n",
        "## What do you notice?"
      ],
      "metadata": {
        "id": "7MmrgYplGxHi"
      }
    },
    {
      "cell_type": "markdown",
      "source": [
        "## **Confounding!**"
      ],
      "metadata": {
        "id": "sG2CzWmiHpVH"
      }
    },
    {
      "cell_type": "markdown",
      "source": [
        "##Let's look at how case frequency differs by ethnicity by tabulating this\n",
        "## Cases are indicated by a '2' and controls by a '1'\n"
      ],
      "metadata": {
        "id": "WxSUro3KH7ld"
      }
    },
    {
      "cell_type": "code",
      "source": [
        "%%R\n",
        "\n",
        "table(pcaph[,c(4,7)])"
      ],
      "metadata": {
        "id": "YGOyU0EUH3Fv"
      },
      "execution_count": null,
      "outputs": []
    },
    {
      "cell_type": "markdown",
      "source": [
        "##All the cases are in 'white British' samples (it's melanoma!).\n",
        "## It's likely that most of the genetic variants that look 'significant' are those that are more frequent in white British samples compared to south Asian.\n",
        "##So let try looking at the results when we just have white British samples:"
      ],
      "metadata": {
        "id": "yoLZmUBFIGWX"
      }
    },
    {
      "cell_type": "code",
      "source": [
        "%%R\n",
        "\n",
        "reslog2<-read.table(file=\"pm_workshop/testplinkall2WITHCUMPOS.assoc.logistic\",header=TRUE)\n",
        "\n",
        "plot(reslog2[round(0.5*reslog2[,1])==0.5*reslog2[,1],10],-log10(reslog2[round(0.5*reslog2[,1])==0.5*reslog2[,1],9]),col=\"cornflowerblue\",xlim=c(min(reslog2[,10],na.rm=T),max(reslog2[,10],na.rm=T)),xaxt=\"n\",xlab=\"position\",ylab=\"-log10p\")\n",
        "points(reslog2[round(0.5*reslog2[,1])!=0.5*reslog2[,1],10],-log10(reslog2[round(0.5*reslog2[,1])!=0.5*reslog2[,1],9]),col=\"darkblue\")\n",
        "\n",
        "abline(h=-log10(5*(10^(-8))),col=\"red\")"
      ],
      "metadata": {
        "id": "BV7SrcsfLQuS"
      },
      "execution_count": null,
      "outputs": []
    },
    {
      "cell_type": "markdown",
      "source": [
        "##We can pick out the variants that are significantly associated with melanoma risk\n"
      ],
      "metadata": {
        "id": "KpsFhwGWIWb4"
      }
    },
    {
      "cell_type": "code",
      "source": [
        "%%R\n",
        "\n",
        "reslog2[!is.na(reslog2[,9])&reslog2[,9]<0.000001,]"
      ],
      "metadata": {
        "id": "DKPCgdgRMD_K"
      },
      "execution_count": null,
      "outputs": []
    },
    {
      "cell_type": "markdown",
      "source": [
        "## The two chromosome 9 variants are in *CDKN2A*, a tumour suppressor gene. Mutations in *CDKN2A* are found in ~20% of familial melanoma cases.\n",
        "## The chromosome 16 variant is close to *MC1R* - the gene that most strongly influences the red hair/pale skin/freckly phenotype.\n",
        "## No surprise to find these associated with melanoma!"
      ],
      "metadata": {
        "id": "FMW-O10kJAt4"
      }
    },
    {
      "cell_type": "markdown",
      "source": [
        "## **More about the ethnicity results**"
      ],
      "metadata": {
        "id": "-QCk1bz4FJgj"
      }
    },
    {
      "cell_type": "markdown",
      "source": [
        "**Pathan** are quite distinct and historically come from a different part of Pakistan.\n",
        "\n",
        "**Jatt** and **Choudhry** seem to overlap completely.\n",
        "\n",
        "Choudhry is an honorary title in Punjab and Kashmir used most commonly by the Jatts.\n",
        "\n",
        "**Bains** is somewhat separate to others, while Rajput overlaps both **Bains** and **Jatt/Choudhry**.\n",
        "\n",
        "It could be that **Rajput** has different subgroups or that it is a title taken on by people with different ancestry.\n",
        "\n",
        "For more about this see my article in Nature Communications: \n",
        "\n",
        "[Arcerio et al (2021) Fine-scale population structure and demographic history of British Pakistanis. Nat Commun 12(1):7189](https://www.nature.com/articles/s41467-021-27394-2)"
      ],
      "metadata": {
        "id": "3Fexj3oYEWBR"
      }
    },
    {
      "cell_type": "markdown",
      "source": [
        "## **More about the melanoma results**"
      ],
      "metadata": {
        "id": "nNUqDVnPOz-N"
      }
    },
    {
      "cell_type": "markdown",
      "source": [
        "For more about melanoma genetics see my article in Nature Genetics:\n",
        "\n",
        "[Landi et al (2020) Genome-wide association meta-analyses combining multiple risk phenotypes provide insights into the genetic architecture of cutaneous melanoma susceptibility. 52(5):494-504](https://www.nature.com/articles/s41588-020-0611-8)"
      ],
      "metadata": {
        "id": "FR3phyItO3-2"
      }
    }
  ]
}